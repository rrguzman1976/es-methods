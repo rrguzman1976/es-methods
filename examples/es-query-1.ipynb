{
 "cells": [
  {
   "cell_type": "markdown",
   "metadata": {},
   "source": [
    "# Elastic Search REST Queries"
   ]
  },
  {
   "cell_type": "code",
   "execution_count": 3,
   "metadata": {},
   "outputs": [],
   "source": [
    "import pandas as pd\n",
    "import requests\n",
    "import json\n",
    "import matplotlib.pyplot as plt"
   ]
  },
  {
   "cell_type": "markdown",
   "metadata": {},
   "source": [
    "## Docker ES"
   ]
  },
  {
   "cell_type": "code",
   "execution_count": 5,
   "metadata": {},
   "outputs": [],
   "source": [
    "es_url1 = 'http://es-test:9200/{0}'\n",
    "es_resource1 = 'landgrid/_search'\n",
    "\n",
    "headers = {\n",
    "            'Content-Type': 'application/json',\n",
    "            'Cache-Control': 'no-cache'\n",
    "        }"
   ]
  },
  {
   "cell_type": "code",
   "execution_count": 6,
   "metadata": {},
   "outputs": [
    {
     "name": "stdout",
     "output_type": "stream",
     "text": [
      "UTF-8\n"
     ]
    }
   ],
   "source": [
    "url = es_url1.format(es_resource1)\n",
    "payload = {\n",
    "  \"aggregations\" : {\n",
    "      \"no county\" : {\n",
    "          \"missing\" : { \n",
    "            \"field\" : \"Abstract\" \n",
    "          },\n",
    "          \"aggregations\": {\n",
    "            \"by_state\": {\n",
    "              \"terms\": {\n",
    "                \"field\": \"State\",\n",
    "                \"size\": 100,\n",
    "                \"order\" : { \"_key\" : \"asc\" }\n",
    "              },\n",
    "              \"aggregations\": {\n",
    "                \"by_type\": {\n",
    "                  \"terms\": {\n",
    "                    \"field\": \"Type\",\n",
    "                    \"size\": 100,\n",
    "                    \"order\" : { \"_key\" : \"asc\" }\n",
    "                  }\n",
    "                }\n",
    "              }\n",
    "            }\n",
    "          }\n",
    "      }\n",
    "  },\n",
    "  \"size\": 0\n",
    "}\n",
    "\n",
    "r = requests.get(url, headers=headers, json=payload)\n",
    "print(r.encoding)\n",
    "result = r.json()"
   ]
  },
  {
   "cell_type": "code",
   "execution_count": 16,
   "metadata": {},
   "outputs": [],
   "source": [
    "total = result['aggregations']['no county']['doc_count']\n",
    "\n",
    "buckets = result['aggregations']['no county']['by_state']['buckets']"
   ]
  },
  {
   "cell_type": "code",
   "execution_count": 17,
   "metadata": {
    "scrolled": true
   },
   "outputs": [
    {
     "data": {
      "text/plain": [
       "[{'key': 'AZ',\n",
       "  'doc_count': 3,\n",
       "  'by_type': {'doc_count_error_upper_bound': 0,\n",
       "   'sum_other_doc_count': 0,\n",
       "   'buckets': [{'key': 'Type 1', 'doc_count': 1},\n",
       "    {'key': 'Type 2', 'doc_count': 1},\n",
       "    {'key': 'Type 3', 'doc_count': 1}]}},\n",
       " {'key': 'NM',\n",
       "  'doc_count': 4,\n",
       "  'by_type': {'doc_count_error_upper_bound': 0,\n",
       "   'sum_other_doc_count': 0,\n",
       "   'buckets': [{'key': 'Type 1', 'doc_count': 1},\n",
       "    {'key': 'Type 2', 'doc_count': 1},\n",
       "    {'key': 'Type 3', 'doc_count': 2}]}}]"
      ]
     },
     "execution_count": 17,
     "metadata": {},
     "output_type": "execute_result"
    }
   ],
   "source": [
    "buckets"
   ]
  },
  {
   "cell_type": "code",
   "execution_count": 42,
   "metadata": {
    "scrolled": true
   },
   "outputs": [
    {
     "data": {
      "text/html": [
       "<div>\n",
       "<style scoped>\n",
       "    .dataframe tbody tr th:only-of-type {\n",
       "        vertical-align: middle;\n",
       "    }\n",
       "\n",
       "    .dataframe tbody tr th {\n",
       "        vertical-align: top;\n",
       "    }\n",
       "\n",
       "    .dataframe thead th {\n",
       "        text-align: right;\n",
       "    }\n",
       "</style>\n",
       "<table border=\"1\" class=\"dataframe\">\n",
       "  <thead>\n",
       "    <tr style=\"text-align: right;\">\n",
       "      <th></th>\n",
       "      <th>doc_count</th>\n",
       "      <th>Type 1</th>\n",
       "      <th>Type 2</th>\n",
       "      <th>Type 3</th>\n",
       "    </tr>\n",
       "    <tr>\n",
       "      <th>key</th>\n",
       "      <th></th>\n",
       "      <th></th>\n",
       "      <th></th>\n",
       "      <th></th>\n",
       "    </tr>\n",
       "  </thead>\n",
       "  <tbody>\n",
       "    <tr>\n",
       "      <th>AZ</th>\n",
       "      <td>3</td>\n",
       "      <td>1</td>\n",
       "      <td>1</td>\n",
       "      <td>1</td>\n",
       "    </tr>\n",
       "    <tr>\n",
       "      <th>NM</th>\n",
       "      <td>4</td>\n",
       "      <td>1</td>\n",
       "      <td>1</td>\n",
       "      <td>2</td>\n",
       "    </tr>\n",
       "  </tbody>\n",
       "</table>\n",
       "</div>"
      ],
      "text/plain": [
       "     doc_count  Type 1  Type 2  Type 3\n",
       "key                                   \n",
       "AZ           3       1       1       1\n",
       "NM           4       1       1       2"
      ]
     },
     "execution_count": 42,
     "metadata": {},
     "output_type": "execute_result"
    }
   ],
   "source": [
    "by_state_df1 = pd.DataFrame(buckets)\n",
    "by_state_df1[\"buckets\"] = by_state_df1.by_type.apply(lambda x: x['buckets'])\n",
    "by_state_df1[\"keyval\"] = by_state_df1.buckets.apply(lambda x: {d['key']:d['doc_count'] for d in x})\n",
    "\n",
    "tmp_df = pd.DataFrame(by_state_df1[\"keyval\"].to_dict())\n",
    "tmp_df = tmp_df.transpose().copy()\n",
    "\n",
    "shredded_df = by_state_df1.join(tmp_df)\n",
    "shredded_df.drop(columns=[\"by_type\", \"buckets\", \"keyval\"], inplace=True, axis=1)\n",
    "shredded_df.set_index('key', inplace=True)\n",
    "shredded_df"
   ]
  },
  {
   "cell_type": "code",
   "execution_count": 50,
   "metadata": {},
   "outputs": [
    {
     "data": {
      "text/plain": [
       "Text(0.5, 0, 'State')"
      ]
     },
     "execution_count": 50,
     "metadata": {},
     "output_type": "execute_result"
    },
    {
     "data": {
      "image/png": "[encoded data removed]",
      "text/plain": [
       "<Figure size 1008x720 with 1 Axes>"
      ]
     },
     "metadata": {
      "needs_background": "light"
     },
     "output_type": "display_data"
    }
   ],
   "source": [
    "shredded_df.iloc[:, 1:].plot.bar(title=\"States Missing Abstract\", stacked=True, figsize=(14, 10))\n",
    "plt.xlabel('State')"
   ]
  },
  {
   "cell_type": "markdown",
   "metadata": {},
   "source": [
    "## DI Direct"
   ]
  },
  {
   "cell_type": "code",
   "execution_count": 6,
   "metadata": {},
   "outputs": [],
   "source": [
    "# Master node IP\n",
    "es_url2 = 'http://##.###.#.###:9200/{0}'\n",
    "es_resource2 = 'landgrid_07182018/landgrid/_search'\n",
    "\n",
    "headers = {\n",
    "            'Content-Type': 'application/json',\n",
    "            'Cache-Control': 'no-cache'\n",
    "        }"
   ]
  },
  {
   "cell_type": "code",
   "execution_count": 7,
   "metadata": {},
   "outputs": [
    {
     "name": "stdout",
     "output_type": "stream",
     "text": [
      "UTF-8\n"
     ]
    }
   ],
   "source": [
    "url = es_url2.format(es_resource2)\n",
    "payload = {\n",
    "  \"query\": {\n",
    "    \"match_all\": {\n",
    "    }\n",
    "  },\n",
    "  \"aggregations\": {\n",
    "    \"by_state\": {\n",
    "      \"terms\": {\n",
    "        \"field\": \"State\",\n",
    "        \"size\": 100,\n",
    "        \"order\" : { \"_key\" : \"asc\" }\n",
    "      },\n",
    "      \"aggregations\": {\n",
    "        \"by_type\": {\n",
    "          \"terms\": {\n",
    "            \"field\": \"Type\",\n",
    "            \"size\": 100,\n",
    "            \"order\" : { \"_key\" : \"asc\" }\n",
    "          }\n",
    "        }\n",
    "      }\n",
    "    }\n",
    "  },\n",
    "  \"size\": 0\n",
    "}\n",
    "\n",
    "r = requests.get(url, headers=headers, json=payload)\n",
    "print(r.encoding)\n",
    "result = r.json()"
   ]
  },
  {
   "cell_type": "code",
   "execution_count": 8,
   "metadata": {
    "scrolled": false
   },
   "outputs": [
    {
     "data": {
      "text/plain": [
       "[{'key': 'AK',\n",
       "  'doc_count': 30,\n",
       "  'by_type': {'doc_count_error_upper_bound': 0,\n",
       "   'sum_other_doc_count': 0,\n",
       "   'buckets': [{'key': 'County', 'doc_count': 29},\n",
       "    {'key': 'State', 'doc_count': 1}]}},\n",
       " {'key': 'AL',\n",
       "  'doc_count': 50878,\n",
       "  'by_type': {'doc_count_error_upper_bound': 0,\n",
       "   'sum_other_doc_count': 0,\n",
       "   'buckets': [{'key': 'County', 'doc_count': 67},\n",
       "    {'key': 'Section', 'doc_count': 49288},\n",
       "    {'key': 'State', 'doc_count': 1},\n",
       "    {'key': 'Township', 'doc_count': 1522}]}}]"
      ]
     },
     "execution_count": 8,
     "metadata": {},
     "output_type": "execute_result"
    }
   ],
   "source": [
    "result['aggregations']['by_state']['buckets'][:2]"
   ]
  },
  {
   "cell_type": "code",
   "execution_count": 20,
   "metadata": {},
   "outputs": [],
   "source": [
    "by_state = result['aggregations']['by_state']['buckets']"
   ]
  },
  {
   "cell_type": "code",
   "execution_count": 25,
   "metadata": {
    "scrolled": true
   },
   "outputs": [
    {
     "data": {
      "text/html": [
       "<div>\n",
       "<style scoped>\n",
       "    .dataframe tbody tr th:only-of-type {\n",
       "        vertical-align: middle;\n",
       "    }\n",
       "\n",
       "    .dataframe tbody tr th {\n",
       "        vertical-align: top;\n",
       "    }\n",
       "\n",
       "    .dataframe thead th {\n",
       "        text-align: right;\n",
       "    }\n",
       "</style>\n",
       "<table border=\"1\" class=\"dataframe\">\n",
       "  <thead>\n",
       "    <tr style=\"text-align: right;\">\n",
       "      <th></th>\n",
       "      <th>doc_count</th>\n",
       "      <th>County</th>\n",
       "      <th>State</th>\n",
       "      <th>Section</th>\n",
       "      <th>Township</th>\n",
       "      <th>Abstract</th>\n",
       "      <th>Block</th>\n",
       "    </tr>\n",
       "    <tr>\n",
       "      <th>key</th>\n",
       "      <th></th>\n",
       "      <th></th>\n",
       "      <th></th>\n",
       "      <th></th>\n",
       "      <th></th>\n",
       "      <th></th>\n",
       "      <th></th>\n",
       "    </tr>\n",
       "  </thead>\n",
       "  <tbody>\n",
       "    <tr>\n",
       "      <th>AK</th>\n",
       "      <td>30</td>\n",
       "      <td>29.0</td>\n",
       "      <td>1.0</td>\n",
       "      <td>NaN</td>\n",
       "      <td>NaN</td>\n",
       "      <td>NaN</td>\n",
       "      <td>NaN</td>\n",
       "    </tr>\n",
       "    <tr>\n",
       "      <th>AL</th>\n",
       "      <td>50878</td>\n",
       "      <td>67.0</td>\n",
       "      <td>1.0</td>\n",
       "      <td>49288.0</td>\n",
       "      <td>1522.0</td>\n",
       "      <td>NaN</td>\n",
       "      <td>NaN</td>\n",
       "    </tr>\n",
       "    <tr>\n",
       "      <th>AR</th>\n",
       "      <td>56430</td>\n",
       "      <td>75.0</td>\n",
       "      <td>1.0</td>\n",
       "      <td>54592.0</td>\n",
       "      <td>1694.0</td>\n",
       "      <td>68.0</td>\n",
       "      <td>NaN</td>\n",
       "    </tr>\n",
       "    <tr>\n",
       "      <th>AZ</th>\n",
       "      <td>101527</td>\n",
       "      <td>15.0</td>\n",
       "      <td>1.0</td>\n",
       "      <td>98395.0</td>\n",
       "      <td>3116.0</td>\n",
       "      <td>NaN</td>\n",
       "      <td>NaN</td>\n",
       "    </tr>\n",
       "    <tr>\n",
       "      <th>CA</th>\n",
       "      <td>166052</td>\n",
       "      <td>58.0</td>\n",
       "      <td>1.0</td>\n",
       "      <td>161062.0</td>\n",
       "      <td>4931.0</td>\n",
       "      <td>NaN</td>\n",
       "      <td>NaN</td>\n",
       "    </tr>\n",
       "  </tbody>\n",
       "</table>\n",
       "</div>"
      ],
      "text/plain": [
       "     doc_count  County  State   Section  Township  Abstract  Block\n",
       "key                                                               \n",
       "AK          30    29.0    1.0       NaN       NaN       NaN    NaN\n",
       "AL       50878    67.0    1.0   49288.0    1522.0       NaN    NaN\n",
       "AR       56430    75.0    1.0   54592.0    1694.0      68.0    NaN\n",
       "AZ      101527    15.0    1.0   98395.0    3116.0       NaN    NaN\n",
       "CA      166052    58.0    1.0  161062.0    4931.0       NaN    NaN"
      ]
     },
     "execution_count": 25,
     "metadata": {},
     "output_type": "execute_result"
    }
   ],
   "source": [
    "by_state_df2 = pd.DataFrame(by_state)\n",
    "by_state_df2[\"buckets\"] = by_state_df2.by_type.apply(lambda x: x['buckets'])\n",
    "by_state_df2[\"keyval\"] = by_state_df2.buckets.apply(lambda x: {d['key']:d['doc_count'] for d in x})\n",
    "\n",
    "tmp_df = pd.DataFrame(by_state_df2[\"keyval\"].to_dict())\n",
    "tmp_df = tmp_df.transpose().copy()\n",
    "\n",
    "shredded_df = by_state_df2.join(tmp_df)\n",
    "shredded_df.drop(columns=[\"by_type\", \"buckets\", \"keyval\"], inplace=True, axis=1)\n",
    "shredded_df.set_index('key', inplace=True)\n",
    "shredded_df.head()"
   ]
  },
  {
   "cell_type": "code",
   "execution_count": 28,
   "metadata": {},
   "outputs": [],
   "source": [
    "shredded_df.to_csv('states_by_landgrid_type.csv')"
   ]
  },
  {
   "cell_type": "code",
   "execution_count": 23,
   "metadata": {
    "scrolled": false
   },
   "outputs": [
    {
     "data": {
      "text/plain": [
       "Text(0.5, 0, 'State')"
      ]
     },
     "execution_count": 23,
     "metadata": {},
     "output_type": "execute_result"
    },
    {
     "data": {
      "image/png": "[encoded data removed]",
      "text/plain": [
       "<Figure size 1008x720 with 1 Axes>"
      ]
     },
     "metadata": {
      "needs_background": "light"
     },
     "output_type": "display_data"
    }
   ],
   "source": [
    "shredded_df.iloc[:, 1:].plot.bar(title=\"States Missing Abstract\", stacked=True, figsize=(14, 10))\n",
    "plt.xlabel('State')"
   ]
  },
  {
   "cell_type": "markdown",
   "metadata": {},
   "source": [
    "## DI via Consul DNS"
   ]
  },
  {
   "cell_type": "code",
   "execution_count": null,
   "metadata": {
    "scrolled": true
   },
   "outputs": [],
   "source": [
    "es_url3 = 'http://xxx.xx.xx:9200/{0}'\n",
    "es_resource3 = 'landgrid/_search'\n",
    "url = es_url3.format(es_resource3)\n",
    "\n",
    "payload = {\n",
    "  \"query\": {\n",
    "    \"match_all\": {\n",
    "    }\n",
    "  },\n",
    "  \"aggregations\": {\n",
    "    \"by_state\": {\n",
    "      \"terms\": {\n",
    "        \"field\": \"State\",\n",
    "        \"size\": 100,\n",
    "        \"order\" : { \"_key\" : \"asc\" }\n",
    "      },\n",
    "      \"aggregations\": {\n",
    "        \"by_type\": {\n",
    "          \"terms\": {\n",
    "            \"field\": \"Type\",\n",
    "            \"size\": 100,\n",
    "            \"order\" : { \"_key\" : \"asc\" }\n",
    "          }\n",
    "        }\n",
    "      }\n",
    "    }\n",
    "  },\n",
    "  \"size\": 0\n",
    "}\n",
    "\n",
    "headers = {\n",
    "            'Content-Type': 'application/json',\n",
    "            'X-API-KEY': 'yeah I know',\n",
    "            'Cache-Control': 'no-cache'\n",
    "        }\n",
    "\n",
    "# Need to change DNS in Docker\n",
    "sess = requests.Session()\n",
    "sess.headers.update(headers)\n",
    "\n",
    "req = requests.Request('GET', url, params=None, headers=headers, json=payload)\n",
    "\n",
    "prepped_request = sess.prepare_request(req)\n",
    "\n",
    "r = sess.send(\n",
    "    prepped_request,\n",
    "    stream=False,\n",
    "    verify=False,\n",
    "    proxies={},\n",
    "    cert=None,\n",
    "    timeout=None,\n",
    "    allow_redirects=True)\n",
    "\n",
    "print(r)\n",
    "print(r.encoding)\n",
    "result = r.json()\n",
    "result"
   ]
  },
  {
   "cell_type": "code",
   "execution_count": null,
   "metadata": {},
   "outputs": [],
   "source": []
  }
 ],
 "metadata": {
  "kernelspec": {
   "display_name": "Python 3",
   "language": "python",
   "name": "python3"
  },
  "language_info": {
   "codemirror_mode": {
    "name": "ipython",
    "version": 3
   },
   "file_extension": ".py",
   "mimetype": "text/x-python",
   "name": "python",
   "nbconvert_exporter": "python",
   "pygments_lexer": "ipython3",
   "version": "3.6.8"
  }
 },
 "nbformat": 4,
 "nbformat_minor": 2
}
