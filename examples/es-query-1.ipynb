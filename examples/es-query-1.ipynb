{
 "cells": [
  {
   "cell_type": "markdown",
   "metadata": {},
   "source": [
    "# Elastic Search REST Queries"
   ]
  },
  {
   "cell_type": "code",
   "execution_count": 1,
   "metadata": {},
   "outputs": [],
   "source": [
    "import pandas as pd\n",
    "import requests\n",
    "import json\n",
    "import matplotlib.pyplot as plt"
   ]
  },
  {
   "cell_type": "markdown",
   "metadata": {},
   "source": [
    "## Docker ES"
   ]
  },
  {
   "cell_type": "code",
   "execution_count": 5,
   "metadata": {},
   "outputs": [],
   "source": [
    "es_url1 = 'http://es-test:9200/{0}'\n",
    "es_resource1 = 'landgrid/_search'\n",
    "\n",
    "headers = {\n",
    "            'Content-Type': 'application/json',\n",
    "            'Cache-Control': 'no-cache'\n",
    "        }"
   ]
  },
  {
   "cell_type": "code",
   "execution_count": 6,
   "metadata": {},
   "outputs": [
    {
     "name": "stdout",
     "output_type": "stream",
     "text": [
      "UTF-8\n"
     ]
    }
   ],
   "source": [
    "url = es_url1.format(es_resource1)\n",
    "payload = {\n",
    "  \"aggregations\" : {\n",
    "      \"no county\" : {\n",
    "          \"missing\" : { \n",
    "            \"field\" : \"Abstract\" \n",
    "          },\n",
    "          \"aggregations\": {\n",
    "            \"by_state\": {\n",
    "              \"terms\": {\n",
    "                \"field\": \"State\",\n",
    "                \"size\": 100,\n",
    "                \"order\" : { \"_key\" : \"asc\" }\n",
    "              },\n",
    "              \"aggregations\": {\n",
    "                \"by_type\": {\n",
    "                  \"terms\": {\n",
    "                    \"field\": \"Type\",\n",
    "                    \"size\": 100,\n",
    "                    \"order\" : { \"_key\" : \"asc\" }\n",
    "                  }\n",
    "                }\n",
    "              }\n",
    "            }\n",
    "          }\n",
    "      }\n",
    "  },\n",
    "  \"size\": 0\n",
    "}\n",
    "\n",
    "r = requests.get(url, headers=headers, json=payload)\n",
    "print(r.encoding)\n",
    "result = r.json()"
   ]
  },
  {
   "cell_type": "code",
   "execution_count": 16,
   "metadata": {},
   "outputs": [],
   "source": [
    "total = result['aggregations']['no county']['doc_count']\n",
    "\n",
    "buckets = result['aggregations']['no county']['by_state']['buckets']"
   ]
  },
  {
   "cell_type": "code",
   "execution_count": 17,
   "metadata": {
    "scrolled": true
   },
   "outputs": [
    {
     "data": {
      "text/plain": [
       "[{'key': 'AZ',\n",
       "  'doc_count': 3,\n",
       "  'by_type': {'doc_count_error_upper_bound': 0,\n",
       "   'sum_other_doc_count': 0,\n",
       "   'buckets': [{'key': 'Type 1', 'doc_count': 1},\n",
       "    {'key': 'Type 2', 'doc_count': 1},\n",
       "    {'key': 'Type 3', 'doc_count': 1}]}},\n",
       " {'key': 'NM',\n",
       "  'doc_count': 4,\n",
       "  'by_type': {'doc_count_error_upper_bound': 0,\n",
       "   'sum_other_doc_count': 0,\n",
       "   'buckets': [{'key': 'Type 1', 'doc_count': 1},\n",
       "    {'key': 'Type 2', 'doc_count': 1},\n",
       "    {'key': 'Type 3', 'doc_count': 2}]}}]"
      ]
     },
     "execution_count": 17,
     "metadata": {},
     "output_type": "execute_result"
    }
   ],
   "source": [
    "buckets"
   ]
  },
  {
   "cell_type": "code",
   "execution_count": 42,
   "metadata": {
    "scrolled": true
   },
   "outputs": [
    {
     "data": {
      "text/html": [
       "<div>\n",
       "<style scoped>\n",
       "    .dataframe tbody tr th:only-of-type {\n",
       "        vertical-align: middle;\n",
       "    }\n",
       "\n",
       "    .dataframe tbody tr th {\n",
       "        vertical-align: top;\n",
       "    }\n",
       "\n",
       "    .dataframe thead th {\n",
       "        text-align: right;\n",
       "    }\n",
       "</style>\n",
       "<table border=\"1\" class=\"dataframe\">\n",
       "  <thead>\n",
       "    <tr style=\"text-align: right;\">\n",
       "      <th></th>\n",
       "      <th>doc_count</th>\n",
       "      <th>Type 1</th>\n",
       "      <th>Type 2</th>\n",
       "      <th>Type 3</th>\n",
       "    </tr>\n",
       "    <tr>\n",
       "      <th>key</th>\n",
       "      <th></th>\n",
       "      <th></th>\n",
       "      <th></th>\n",
       "      <th></th>\n",
       "    </tr>\n",
       "  </thead>\n",
       "  <tbody>\n",
       "    <tr>\n",
       "      <th>AZ</th>\n",
       "      <td>3</td>\n",
       "      <td>1</td>\n",
       "      <td>1</td>\n",
       "      <td>1</td>\n",
       "    </tr>\n",
       "    <tr>\n",
       "      <th>NM</th>\n",
       "      <td>4</td>\n",
       "      <td>1</td>\n",
       "      <td>1</td>\n",
       "      <td>2</td>\n",
       "    </tr>\n",
       "  </tbody>\n",
       "</table>\n",
       "</div>"
      ],
      "text/plain": [
       "     doc_count  Type 1  Type 2  Type 3\n",
       "key                                   \n",
       "AZ           3       1       1       1\n",
       "NM           4       1       1       2"
      ]
     },
     "execution_count": 42,
     "metadata": {},
     "output_type": "execute_result"
    }
   ],
   "source": [
    "by_state_df1 = pd.DataFrame(buckets)\n",
    "by_state_df1[\"buckets\"] = by_state_df1.by_type.apply(lambda x: x['buckets'])\n",
    "by_state_df1[\"keyval\"] = by_state_df1.buckets.apply(lambda x: {d['key']:d['doc_count'] for d in x})\n",
    "\n",
    "tmp_df = pd.DataFrame(by_state_df1[\"keyval\"].to_dict())\n",
    "tmp_df = tmp_df.transpose().copy()\n",
    "\n",
    "shredded_df = by_state_df1.join(tmp_df)\n",
    "shredded_df.drop(columns=[\"by_type\", \"buckets\", \"keyval\"], inplace=True, axis=1)\n",
    "shredded_df.set_index('key', inplace=True)\n",
    "shredded_df"
   ]
  },
  {
   "cell_type": "code",
   "execution_count": 50,
   "metadata": {},
   "outputs": [
    {
     "data": {
      "text/plain": [
       "Text(0.5, 0, 'State')"
      ]
     },
     "execution_count": 50,
     "metadata": {},
     "output_type": "execute_result"
    },
    {
     "data": {
      "image/png": "[encoded data removed]",
      "text/plain": [
       "<Figure size 1008x720 with 1 Axes>"
      ]
     },
     "metadata": {
      "needs_background": "light"
     },
     "output_type": "display_data"
    }
   ],
   "source": [
    "shredded_df.iloc[:, 1:].plot.bar(title=\"States Missing Abstract\", stacked=True, figsize=(14, 10))\n",
    "plt.xlabel('State')"
   ]
  },
  {
   "cell_type": "markdown",
   "metadata": {},
   "source": [
    "## DI Direct"
   ]
  },
  {
   "cell_type": "code",
   "execution_count": 41,
   "metadata": {},
   "outputs": [],
   "source": [
    "# es_url = 'https://elasticsearch-regulatory-6x-client.service.aws-ue1.consul:9200/{0}'\n",
    "es_url3 = 'http://10.25.11.123:9200/{0}'\n",
    "es_resource = 'landgrid_07182018/landgrid/_search'\n",
    "\n",
    "headers = {\n",
    "            'Content-Type': 'application/json',\n",
    "            'Cache-Control': 'no-cache'\n",
    "        }"
   ]
  },
  {
   "cell_type": "code",
   "execution_count": 19,
   "metadata": {},
   "outputs": [
    {
     "name": "stdout",
     "output_type": "stream",
     "text": [
      "UTF-8\n"
     ]
    }
   ],
   "source": [
    "url = es_url3.format(es_resource)\n",
    "payload = {\n",
    "  \"aggregations\": {\n",
    "      \"group_state\": {\n",
    "          \"terms\": {\n",
    "              \"field\": \"State\",\n",
    "              \"size\": 100\n",
    "          },\n",
    "          \"aggregations\": {\n",
    "              \"by_type\": {\n",
    "                  \"filter\": {\n",
    "                      \"term\": { \n",
    "                          \"Type\": \"Township\"\n",
    "                      }\n",
    "                  }\n",
    "              }\n",
    "          }\n",
    "      }\n",
    "  },\n",
    "  \"size\": 0\n",
    "}\n",
    "\n",
    "r = requests.get(url, headers=headers, json=payload)\n",
    "print(r.encoding)\n",
    "result = r.json()"
   ]
  },
  {
   "cell_type": "code",
   "execution_count": 25,
   "metadata": {},
   "outputs": [
    {
     "data": {
      "text/plain": [
       "[{'key': 'TX', 'doc_count': 319137, 'by_type': {'doc_count': 249}},\n",
       " {'key': 'CA', 'doc_count': 166052, 'by_type': {'doc_count': 4931}},\n",
       " {'key': 'MT', 'doc_count': 153269, 'by_type': {'doc_count': 4407}},\n",
       " {'key': 'NM', 'doc_count': 126929, 'by_type': {'doc_count': 3607}},\n",
       " {'key': 'NV', 'doc_count': 116069, 'by_type': {'doc_count': 3455}}]"
      ]
     },
     "execution_count": 25,
     "metadata": {},
     "output_type": "execute_result"
    }
   ],
   "source": [
    "by_state = result[\"aggregations\"][\"group_state\"][\"buckets\"]\n",
    "by_state[:5]"
   ]
  },
  {
   "cell_type": "code",
   "execution_count": 56,
   "metadata": {
    "scrolled": true
   },
   "outputs": [
    {
     "data": {
      "text/html": [
       "<div>\n",
       "<style scoped>\n",
       "    .dataframe tbody tr th:only-of-type {\n",
       "        vertical-align: middle;\n",
       "    }\n",
       "\n",
       "    .dataframe tbody tr th {\n",
       "        vertical-align: top;\n",
       "    }\n",
       "\n",
       "    .dataframe thead th {\n",
       "        text-align: right;\n",
       "    }\n",
       "</style>\n",
       "<table border=\"1\" class=\"dataframe\">\n",
       "  <thead>\n",
       "    <tr style=\"text-align: right;\">\n",
       "      <th></th>\n",
       "      <th>Documents</th>\n",
       "      <th>Townships</th>\n",
       "    </tr>\n",
       "    <tr>\n",
       "      <th>State</th>\n",
       "      <th></th>\n",
       "      <th></th>\n",
       "    </tr>\n",
       "  </thead>\n",
       "  <tbody>\n",
       "    <tr>\n",
       "      <th>TX</th>\n",
       "      <td>319137</td>\n",
       "      <td>249</td>\n",
       "    </tr>\n",
       "    <tr>\n",
       "      <th>CA</th>\n",
       "      <td>166052</td>\n",
       "      <td>4931</td>\n",
       "    </tr>\n",
       "    <tr>\n",
       "      <th>MT</th>\n",
       "      <td>153269</td>\n",
       "      <td>4407</td>\n",
       "    </tr>\n",
       "    <tr>\n",
       "      <th>NM</th>\n",
       "      <td>126929</td>\n",
       "      <td>3607</td>\n",
       "    </tr>\n",
       "    <tr>\n",
       "      <th>NV</th>\n",
       "      <td>116069</td>\n",
       "      <td>3455</td>\n",
       "    </tr>\n",
       "  </tbody>\n",
       "</table>\n",
       "</div>"
      ],
      "text/plain": [
       "       Documents  Townships\n",
       "State                      \n",
       "TX        319137        249\n",
       "CA        166052       4931\n",
       "MT        153269       4407\n",
       "NM        126929       3607\n",
       "NV        116069       3455"
      ]
     },
     "execution_count": 56,
     "metadata": {},
     "output_type": "execute_result"
    }
   ],
   "source": [
    "by_state_df = pd.DataFrame(by_state)\n",
    "by_state_df.columns = ['State', 'Documents', 'by_type']\n",
    "\n",
    "by_state_df[\"Townships\"] = by_state_df.by_type.apply(lambda x: x['doc_count'])\n",
    "by_state_df.drop(columns=[\"by_type\"], inplace=True, axis=1)\n",
    "by_state_df.set_index('State', inplace=True)\n",
    "by_state_df.head()\n",
    "#by_state_df.dtypes\n"
   ]
  },
  {
   "cell_type": "code",
   "execution_count": 62,
   "metadata": {},
   "outputs": [
    {
     "data": {
      "text/plain": [
       "<matplotlib.axes._subplots.AxesSubplot at 0x7fb45115c3c8>"
      ]
     },
     "execution_count": 62,
     "metadata": {},
     "output_type": "execute_result"
    },
    {
     "data": {
      "image/png": "[encoded data removed]",
      "text/plain": [
       "<Figure size 1008x720 with 1 Axes>"
      ]
     },
     "metadata": {
      "needs_background": "light"
     },
     "output_type": "display_data"
    }
   ],
   "source": [
    "by_state_df.plot.bar(title=\"Documents by State\", y='Townships', figsize=(14, 10))"
   ]
  },
  {
   "cell_type": "markdown",
   "metadata": {},
   "source": [
    "## DI via Consul DNS"
   ]
  },
  {
   "cell_type": "code",
   "execution_count": null,
   "metadata": {
    "scrolled": true
   },
   "outputs": [],
   "source": [
    "# Need to change DNS in Docker\n",
    "sess = requests.Session()\n",
    "sess.headers.update(headers)\n",
    "\n",
    "req = requests.Request('GET',\n",
    "                       es_url2,\n",
    "                       params=None,\n",
    "                       headers=headers)\n",
    "\n",
    "prepped_request = sess.prepare_request(req)\n",
    "\n",
    "response = sess.send(\n",
    "    prepped_request,\n",
    "    stream=False,\n",
    "    verify=False,\n",
    "    proxies={},\n",
    "    cert=None,\n",
    "    timeout=None,\n",
    "    allow_redirects=True)\n",
    "\n",
    "print(response)"
   ]
  },
  {
   "cell_type": "code",
   "execution_count": null,
   "metadata": {},
   "outputs": [],
   "source": []
  }
 ],
 "metadata": {
  "kernelspec": {
   "display_name": "Python 3",
   "language": "python",
   "name": "python3"
  },
  "language_info": {
   "codemirror_mode": {
    "name": "ipython",
    "version": 3
   },
   "file_extension": ".py",
   "mimetype": "text/x-python",
   "name": "python",
   "nbconvert_exporter": "python",
   "pygments_lexer": "ipython3",
   "version": "3.6.8"
  }
 },
 "nbformat": 4,
 "nbformat_minor": 2
}
